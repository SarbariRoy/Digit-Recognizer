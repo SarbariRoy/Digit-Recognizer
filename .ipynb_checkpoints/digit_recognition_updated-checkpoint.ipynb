{
 "cells": [
  {
   "cell_type": "code",
   "execution_count": 1,
   "id": "289a3d42-913e-42a6-a8cd-baa9ff7d1572",
   "metadata": {},
   "outputs": [
    {
     "ename": "ModuleNotFoundError",
     "evalue": "No module named 'tensorflow'",
     "output_type": "error",
     "traceback": [
      "\u001b[0;31m---------------------------------------------------------------------------\u001b[0m",
      "\u001b[0;31mModuleNotFoundError\u001b[0m                       Traceback (most recent call last)",
      "Cell \u001b[0;32mIn[1], line 4\u001b[0m\n\u001b[1;32m      1\u001b[0m \u001b[38;5;66;03m# 2‑Model Ensemble for Digit Recognizer (Keras)\u001b[39;00m\n\u001b[1;32m      2\u001b[0m \u001b[38;5;66;03m# ---------------------------------------------\u001b[39;00m\n\u001b[1;32m      3\u001b[0m \u001b[38;5;28;01mimport\u001b[39;00m \u001b[38;5;21;01mnumpy\u001b[39;00m \u001b[38;5;28;01mas\u001b[39;00m \u001b[38;5;21;01mnp\u001b[39;00m\u001b[38;5;241m,\u001b[39m \u001b[38;5;21;01mpandas\u001b[39;00m \u001b[38;5;28;01mas\u001b[39;00m \u001b[38;5;21;01mpd\u001b[39;00m\n\u001b[0;32m----> 4\u001b[0m \u001b[38;5;28;01mimport\u001b[39;00m \u001b[38;5;21;01mtensorflow\u001b[39;00m \u001b[38;5;28;01mas\u001b[39;00m \u001b[38;5;21;01mtf\u001b[39;00m\n\u001b[1;32m      5\u001b[0m \u001b[38;5;28;01mfrom\u001b[39;00m \u001b[38;5;21;01mtensorflow\u001b[39;00m \u001b[38;5;28;01mimport\u001b[39;00m keras\n\u001b[1;32m      6\u001b[0m \u001b[38;5;28;01mfrom\u001b[39;00m \u001b[38;5;21;01mtensorflow\u001b[39;00m\u001b[38;5;21;01m.\u001b[39;00m\u001b[38;5;21;01mkeras\u001b[39;00m \u001b[38;5;28;01mimport\u001b[39;00m layers, callbacks\n",
      "\u001b[0;31mModuleNotFoundError\u001b[0m: No module named 'tensorflow'"
     ]
    }
   ],
   "source": [
    "# 2‑Model Ensemble for Digit Recognizer (Keras)\n",
    "# ---------------------------------------------\n",
    "import numpy as np, pandas as pd\n",
    "import tensorflow as tf\n",
    "from tensorflow import keras\n",
    "from tensorflow.keras import layers, callbacks\n",
    "from sklearn.model_selection import train_test_split\n",
    "\n",
    "SEED1, SEED2 = 42, 99\n",
    "np.random.seed(SEED1); tf.random.set_seed(SEED1)"
   ]
  },
  {
   "cell_type": "code",
   "execution_count": 7,
   "id": "835272b5-c4c8-480b-82e5-2c3a75bd718f",
   "metadata": {},
   "outputs": [
    {
     "name": "stdout",
     "output_type": "stream",
     "text": [
      "\u001b[33mWARNING: Skipping tensorflow as it is not installed.\u001b[0m\u001b[33m\n",
      "\u001b[0m\u001b[33mWARNING: Skipping keras as it is not installed.\u001b[0m\u001b[33m\n",
      "\u001b[0m\u001b[33mWARNING: Skipping protobuf as it is not installed.\u001b[0m\u001b[33m\n",
      "\u001b[0mCollecting tensorflow-macos==2.15.*\n",
      "  Downloading tensorflow_macos-2.15.1-cp39-cp39-macosx_12_0_arm64.whl.metadata (3.4 kB)\n",
      "Collecting keras==2.15.*\n",
      "  Using cached keras-2.15.0-py3-none-any.whl.metadata (2.4 kB)\n",
      "Collecting protobuf==3.20.*\n",
      "  Downloading protobuf-3.20.3-py2.py3-none-any.whl.metadata (720 bytes)\n",
      "Requirement already satisfied: numpy<2 in /opt/anaconda3/envs/kaggle_py39/lib/python3.9/site-packages (1.22.0)\n",
      "Downloading tensorflow_macos-2.15.1-cp39-cp39-macosx_12_0_arm64.whl (2.2 kB)\n",
      "Using cached keras-2.15.0-py3-none-any.whl (1.7 MB)\n",
      "Downloading protobuf-3.20.3-py2.py3-none-any.whl (162 kB)\n",
      "\u001b[2K   \u001b[90m━━━━━━━━━━━━━━━━━━━━━━━━━━━━━━━━━━━━━━━━\u001b[0m \u001b[32m162.1/162.1 kB\u001b[0m \u001b[31m3.5 MB/s\u001b[0m eta \u001b[36m0:00:00\u001b[0ma \u001b[36m0:00:01\u001b[0m\n",
      "\u001b[?25h\u001b[33mDEPRECATION: imbalanced-ensemble 0.1.7 has a non-standard dependency specifier pandas>=1.1.3joblib>=0.11. pip 24.1 will enforce this behaviour change. A possible replacement is to upgrade to a newer version of imbalanced-ensemble or contact the author to suggest that they release a version with a conforming dependency specifiers. Discussion can be found at https://github.com/pypa/pip/issues/12063\u001b[0m\u001b[33m\n",
      "\u001b[0mInstalling collected packages: protobuf, keras, tensorflow-macos\n",
      "Successfully installed keras-2.15.0 protobuf-3.20.3 tensorflow-macos-2.15.1\n",
      "Collecting tensorflow-metal==1.1.*\n",
      "  Downloading tensorflow_metal-1.1.0-cp39-cp39-macosx_12_0_arm64.whl.metadata (1.2 kB)\n",
      "Requirement already satisfied: wheel~=0.35 in /opt/anaconda3/envs/kaggle_py39/lib/python3.9/site-packages (from tensorflow-metal==1.1.*) (0.43.0)\n",
      "Requirement already satisfied: six>=1.15.0 in /opt/anaconda3/envs/kaggle_py39/lib/python3.9/site-packages (from tensorflow-metal==1.1.*) (1.16.0)\n",
      "Downloading tensorflow_metal-1.1.0-cp39-cp39-macosx_12_0_arm64.whl (1.4 MB)\n",
      "\u001b[2K   \u001b[90m━━━━━━━━━━━━━━━━━━━━━━━━━━━━━━━━━━━━━━━━\u001b[0m \u001b[32m1.4/1.4 MB\u001b[0m \u001b[31m13.2 MB/s\u001b[0m eta \u001b[36m0:00:00\u001b[0ma \u001b[36m0:00:01\u001b[0m\n",
      "\u001b[?25h\u001b[33mDEPRECATION: imbalanced-ensemble 0.1.7 has a non-standard dependency specifier pandas>=1.1.3joblib>=0.11. pip 24.1 will enforce this behaviour change. A possible replacement is to upgrade to a newer version of imbalanced-ensemble or contact the author to suggest that they release a version with a conforming dependency specifiers. Discussion can be found at https://github.com/pypa/pip/issues/12063\u001b[0m\u001b[33m\n",
      "\u001b[0mInstalling collected packages: tensorflow-metal\n",
      "Successfully installed tensorflow-metal-1.1.0\n"
     ]
    }
   ],
   "source": [
    "# !pip uninstall -y tensorflow keras protobuf\n",
    "# !pip install \"tensorflow-macos==2.15.*\" \"keras==2.15.*\" \"protobuf==3.20.*\" \"numpy<2\"\n",
    "# # Optional (GPU via Metal):\n",
    "# !pip install \"tensorflow-metal==1.1.*\"\n"
   ]
  },
  {
   "cell_type": "code",
   "execution_count": 3,
   "id": "c2092d44-5029-4d22-8db7-27b1612698a1",
   "metadata": {},
   "outputs": [
    {
     "ename": "ModuleNotFoundError",
     "evalue": "No module named 'tensorflow'",
     "output_type": "error",
     "traceback": [
      "\u001b[0;31m---------------------------------------------------------------------------\u001b[0m",
      "\u001b[0;31mModuleNotFoundError\u001b[0m                       Traceback (most recent call last)",
      "Cell \u001b[0;32mIn[3], line 1\u001b[0m\n\u001b[0;32m----> 1\u001b[0m \u001b[38;5;28;01mimport\u001b[39;00m \u001b[38;5;21;01msys\u001b[39;00m\u001b[38;5;241m,\u001b[39m \u001b[38;5;21;01mtensorflow\u001b[39;00m \u001b[38;5;28;01mas\u001b[39;00m \u001b[38;5;21;01mtf\u001b[39;00m\u001b[38;5;241m,\u001b[39m \u001b[38;5;21;01mkeras\u001b[39;00m\u001b[38;5;241m,\u001b[39m \u001b[38;5;21;01mnumpy\u001b[39;00m \u001b[38;5;28;01mas\u001b[39;00m \u001b[38;5;21;01mnp\u001b[39;00m\n\u001b[1;32m      2\u001b[0m \u001b[38;5;28mprint\u001b[39m(\u001b[38;5;124m\"\u001b[39m\u001b[38;5;124mpython :\u001b[39m\u001b[38;5;124m\"\u001b[39m, sys\u001b[38;5;241m.\u001b[39mversion)\n\u001b[1;32m      3\u001b[0m \u001b[38;5;28mprint\u001b[39m(\u001b[38;5;124m\"\u001b[39m\u001b[38;5;124mtf     :\u001b[39m\u001b[38;5;124m\"\u001b[39m, tf\u001b[38;5;241m.\u001b[39m__version__)\n",
      "\u001b[0;31mModuleNotFoundError\u001b[0m: No module named 'tensorflow'"
     ]
    }
   ],
   "source": [
    "import sys, tensorflow as tf, keras, numpy as np\n",
    "print(\"python :\", sys.version)\n",
    "print(\"tf     :\", tf.__version__)\n",
    "print(\"keras  :\", keras.__version__)\n",
    "print(\"numpy  :\", np.__version__)\n",
    "print(\"GPUs   :\", tf.config.list_physical_devices(\"GPU\"))\n"
   ]
  },
  {
   "cell_type": "code",
   "execution_count": null,
   "id": "1763ce49-1d2d-4287-b210-eae28d18ba8c",
   "metadata": {},
   "outputs": [],
   "source": [
    "# 2‑Model Ensemble for Digit Recognizer (Keras)\n",
    "# ---------------------------------------------\n",
    "import numpy as np, pandas as pd, tensorflow as tf\n",
    "from tensorflow import keras\n",
    "from tensorflow.keras import layers, callbacks\n",
    "from sklearn.model_selection import train_test_split\n",
    "\n",
    "SEED1, SEED2 = 42, 99\n",
    "np.random.seed(SEED1); tf.random.set_seed(SEED1)\n",
    "\n",
    "# --- Load CSVs ---\n",
    "train = pd.read_csv(\"/kaggle/input/digit-recognizer/train.csv\")\n",
    "test  = pd.read_csv(\"/kaggle/input/digit-recognizer/test.csv\")\n",
    "y = train[\"label\"].values\n",
    "X = train.drop(columns=[\"label\"]).values.astype(\"float32\") / 255.0\n",
    "X_test = test.values.astype(\"float32\") / 255.0\n",
    "X = X.reshape(-1, 28,28,1)\n",
    "X_test = X_test.reshape(-1, 28,28,1)\n",
    "\n",
    "# Train/val split (same for both models for fair comparison)\n",
    "X_tr, X_val, y_tr_int, y_val_int = train_test_split(\n",
    "    X, y, test_size=0.1, random_state=SEED1, stratify=y\n",
    ")\n",
    "num_classes = 10\n",
    "y_tr = keras.utils.to_categorical(y_tr_int, num_classes)\n",
    "y_val = keras.utils.to_categorical(y_val_int, num_classes)\n",
    "\n",
    "# --- Light augmentation ---\n",
    "aug = keras.preprocessing.image.ImageDataGenerator(\n",
    "    rotation_range=10, width_shift_range=0.1, height_shift_range=0.1, zoom_range=0.1\n",
    ")\n",
    "aug_tr = aug.flow(X_tr, y_tr, batch_size=128, shuffle=True)\n",
    "\n",
    "def build_model(variant=1, seed=42):\n",
    "    keras.utils.set_random_seed(seed)\n",
    "    inputs = keras.Input(shape=(28,28,1))\n",
    "    x = inputs\n",
    "    # Shared stem\n",
    "    x = layers.Conv2D(32, 3, padding=\"same\", activation=\"relu\")(x)\n",
    "    x = layers.Conv2D(32, 3, padding=\"same\", activation=\"relu\")(x)\n",
    "    x = layers.MaxPooling2D()(x)\n",
    "    x = layers.Dropout(0.25)(x)\n",
    "    # Variant branch for diversity\n",
    "    if variant == 1:\n",
    "        x = layers.Conv2D(64, 3, padding=\"same\", activation=\"relu\")(x)\n",
    "        x = layers.Conv2D(64, 3, padding=\"same\", activation=\"relu\")(x)\n",
    "    else:  # slightly different kernel sizes/filters\n",
    "        x = layers.Conv2D(48, 5, padding=\"same\", activation=\"relu\")(x)\n",
    "        x = layers.Conv2D(64, 3, padding=\"same\", activation=\"relu\")(x)\n",
    "    x = layers.MaxPooling2D()(x)\n",
    "    x = layers.Dropout(0.25)(x)\n",
    "    x = layers.Flatten()(x)\n",
    "    x = layers.Dense(128 if variant==1 else 160, activation=\"relu\")(x)\n",
    "    x = layers.Dropout(0.5)(x)\n",
    "    outputs = layers.Dense(num_classes, activation=\"softmax\")(x)\n",
    "    model = keras.Model(inputs, outputs)\n",
    "    model.compile(optimizer=keras.optimizers.Adam(1e-3),\n",
    "                  loss=\"categorical_crossentropy\", metrics=[\"accuracy\"])\n",
    "    return model\n",
    "\n",
    "cbs = [\n",
    "    callbacks.ReduceLROnPlateau(monitor=\"val_accuracy\", factor=0.5, patience=2,\n",
    "                                min_lr=1e-5, verbose=1),\n",
    "    callbacks.EarlyStopping(monitor=\"val_accuracy\", patience=5, mode=\"max\",\n",
    "                            restore_best_weights=True, verbose=1),\n",
    "]\n",
    "\n",
    "steps_per_epoch = int(np.ceil(len(X_tr) / 128))\n",
    "\n",
    "# --- Train Model A ---\n",
    "model_a = build_model(variant=1, seed=SEED1)\n",
    "hist_a = model_a.fit(aug_tr, validation_data=(X_val, y_val),\n",
    "                     epochs=30, steps_per_epoch=steps_per_epoch,\n",
    "                     callbacks=cbs, verbose=2)\n",
    "\n",
    "# --- Train Model B ---\n",
    "model_b = build_model(variant=2, seed=SEED2)\n",
    "# re-init generator (optional)\n",
    "aug_tr_b = aug.flow(X_tr, y_tr, batch_size=128, shuffle=True)\n",
    "hist_b = model_b.fit(aug_tr_b, validation_data=(X_val, y_val),\n",
    "                     epochs=30, steps_per_epoch=steps_per_epoch,\n",
    "                     callbacks=cbs, verbose=2)\n",
    "\n",
    "# --- Ensemble: average softmax probabilities ---\n",
    "probs_a = model_a.predict(X_test, batch_size=256, verbose=0)\n",
    "probs_b = model_b.predict(X_test, batch_size=256, verbose=0)\n",
    "probs_ens = (probs_a + probs_b) / 2.0\n",
    "labels = probs_ens.argmax(axis=1)\n",
    "\n",
    "# Optional: check val performance of ensemble (on X_val)\n",
    "val_pa = model_a.predict(X_val, verbose=0)\n",
    "val_pb = model_b.predict(X_val, verbose=0)\n",
    "val_pens = (val_pa + val_pb) / 2.0\n",
    "val_acc_ens = (val_pens.argmax(1) == y_val_int).mean()\n",
    "print(f\"Ensemble validation accuracy: {val_acc_ens:.4f}\")\n",
    "\n",
    "# --- Submission ---\n",
    "sub = pd.DataFrame({\"ImageId\": np.arange(1, len(labels)+1), \"Label\": labels})\n",
    "sub.to_csv(\"submission.csv\", index=False)\n",
    "print(\"Saved submission.csv\")\n"
   ]
  }
 ],
 "metadata": {
  "kernelspec": {
   "display_name": "Python 3 (ipykernel)",
   "language": "python",
   "name": "python3"
  },
  "language_info": {
   "codemirror_mode": {
    "name": "ipython",
    "version": 3
   },
   "file_extension": ".py",
   "mimetype": "text/x-python",
   "name": "python",
   "nbconvert_exporter": "python",
   "pygments_lexer": "ipython3",
   "version": "3.9.19"
  }
 },
 "nbformat": 4,
 "nbformat_minor": 5
}
